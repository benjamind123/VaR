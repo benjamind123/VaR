{
 "cells": [
  {
   "cell_type": "code",
   "execution_count": 3,
   "metadata": {
    "collapsed": true
   },
   "outputs": [],
   "source": [
    "# Function for computing the t day (1 - alpha)% Value-at-Risk\n",
    "\n",
    "import numpy as np\n",
    "import pandas as pd\n",
    "import matplotlib.pyplot as plt"
   ]
  },
  {
   "cell_type": "code",
   "execution_count": 2,
   "metadata": {
    "collapsed": false
   },
   "outputs": [
    {
     "ename": "SyntaxError",
     "evalue": "unexpected EOF while parsing (<ipython-input-2-40bfb4c1a783>, line 8)",
     "output_type": "error",
     "traceback": [
      "\u001b[1;36m  File \u001b[1;32m\"<ipython-input-2-40bfb4c1a783>\"\u001b[1;36m, line \u001b[1;32m8\u001b[0m\n\u001b[1;33m    \u001b[0m\n\u001b[1;37m    ^\u001b[0m\n\u001b[1;31mSyntaxError\u001b[0m\u001b[1;31m:\u001b[0m unexpected EOF while parsing\n"
     ]
    }
   ],
   "source": [
    "def VaR(portfolio, confidence, days, init_portfolio = []):\n",
    "    \n",
    "    # Confidence level will be restricted to 95% and 99%. \n",
    "    # Portfolio is a matrix with rows being the value of the \n",
    "    # asset held and columns being the asset price across days.\n",
    "    # init_portfolio is a list of the inital asset prices held\n",
    "    # in the portfolio.\n",
    "    \n",
    "    if confidence == \"0.05\":\n",
    "        \n",
    "        # We first need to calculate the variance of the individual assets.\n",
    "        \n",
    "        var_1 = np.var(portfolio[0, :])\n",
    "        var_2 = np.var(portfolio[1, :])\n",
    "        \n",
    "        # Computing the variance of the portfolio #\n",
    "        ###########################################\n",
    "        \n",
    "        # Correlation matrix for the assets in the portfolio\n",
    "        \n",
    "        corr_matrix = np.corrcoef(portfolio[0, :], portfolio[1, :])\n",
    "        \n",
    "        var_portfolio = (np.sqrt(var_1) * init_portfolio[0]) ** 2 + (np.sqrt(var_2) * init_portfolio[1]) ** 2\n",
    "        "
   ]
  },
  {
   "cell_type": "code",
   "execution_count": 19,
   "metadata": {
    "collapsed": false
   },
   "outputs": [],
   "source": [
    "portfolio = np.array([[np.random.normal(2000, 1, 5)], [np.random.normal(500, 2, 5)]])"
   ]
  },
  {
   "cell_type": "code",
   "execution_count": 23,
   "metadata": {
    "collapsed": false
   },
   "outputs": [
    {
     "data": {
      "text/plain": [
       "array([[ 1.        , -0.40646147],\n",
       "       [-0.40646147,  1.        ]])"
      ]
     },
     "execution_count": 23,
     "metadata": {},
     "output_type": "execute_result"
    }
   ],
   "source": [
    "np.corrcoef(portfolio[0,:], portfolio[1, :])"
   ]
  },
  {
   "cell_type": "code",
   "execution_count": null,
   "metadata": {
    "collapsed": true
   },
   "outputs": [],
   "source": []
  }
 ],
 "metadata": {
  "anaconda-cloud": {},
  "kernelspec": {
   "display_name": "Python [conda root]",
   "language": "python",
   "name": "conda-root-py"
  },
  "language_info": {
   "codemirror_mode": {
    "name": "ipython",
    "version": 3
   },
   "file_extension": ".py",
   "mimetype": "text/x-python",
   "name": "python",
   "nbconvert_exporter": "python",
   "pygments_lexer": "ipython3",
   "version": "3.5.2"
  }
 },
 "nbformat": 4,
 "nbformat_minor": 1
}
