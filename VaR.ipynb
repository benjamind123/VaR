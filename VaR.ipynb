{
 "cells": [
  {
   "cell_type": "code",
   "execution_count": 7,
   "metadata": {
    "collapsed": true
   },
   "outputs": [],
   "source": [
    "# Function for computing the t day (1 - alpha)% Value-at-Risk\n",
    "\n",
    "import numpy as np\n",
    "import pandas as pd\n",
    "import matplotlib.pyplot as plt\n",
    "from scipy.stats import norm\n",
    "import sys as sys"
   ]
  },
  {
   "cell_type": "code",
   "execution_count": 39,
   "metadata": {
    "collapsed": false
   },
   "outputs": [],
   "source": [
    "def VaR(portfolio, confidence, days, init_portfolio = []):\n",
    "    \n",
    "    # Confidence level will be restricted to 95% and 99%. \n",
    "    # Portfolio is a matrix with rows being the value of the \n",
    "    # asset held and columns being the asset price across days.\n",
    "    # init_portfolio is a list of the inital asset prices held\n",
    "    # in the portfolio.\n",
    "    \n",
    "   \n",
    "        \n",
    "    # We first need to calculate the variance of the individual assets.\n",
    "\n",
    "    var_1 = np.var(portfolio[0, :])\n",
    "    var_2 = np.var(portfolio[1, :])\n",
    "\n",
    "    # Computing the variance of the portfolio #\n",
    "    ###########################################\n",
    "\n",
    "    # Correlation matrix for the assets in the portfolio\n",
    "\n",
    "    corr_matrix = np.corrcoef(portfolio[0, :], portfolio[1, :])\n",
    "\n",
    "    var_asset_1 = (np.sqrt(var_1) * init_portfolio[0]) ** 2\n",
    "    var_asset_2 = (np.sqrt(var_2) * init_portfolio[1]) ** 2\n",
    "\n",
    "    var_portfolio = var_asset_1 + var_asset_2 + 2 * corr_matrix[0, 1] * np.sqrt(var_asset_1) * np.sqrt(var_asset_2)\n",
    "\n",
    "    # Portfolio standard devation\n",
    "\n",
    "    sd_portfolio = np.sqrt(var_portfolio)\n",
    "    \n",
    "    if confidence == \"95\":\n",
    "            \n",
    "            # Calculating the t day 95% VaR\n",
    "            \n",
    "            var = norm.ppf(0.95, 0, 1) * np.sqrt(days) * sd_portfolio\n",
    "            print(\"The\", confidence, \"%\", \"VaR is\", np.round(var, 2))\n",
    "            \n",
    "    elif confidence == \"99\":\n",
    "            \n",
    "            # Calculating the t day 99% VaR\n",
    "            \n",
    "            var = norm.ppf(0.99, 0, 1) * np.sqrt(days) * sd_portfolio\n",
    "            print( \"The\", confidence, \"%\", \"VaR is\",np.round(var, 2))\n",
    "        \n",
    "    elif confidence != \"95\" or confidence != \"99\":\n",
    "            sys.exit(\"Confidence level is not valid.\")\n",
    "            "
   ]
  },
  {
   "cell_type": "code",
   "execution_count": 70,
   "metadata": {
    "collapsed": false
   },
   "outputs": [],
   "source": [
    "# Generate some data\n",
    "\n",
    "portfolio = np.array([[np.random.normal(2000, 0.1, 100)], [np.random.normal(5000, 0.2, 100)]])"
   ]
  },
  {
   "cell_type": "code",
   "execution_count": 72,
   "metadata": {
    "collapsed": false
   },
   "outputs": [
    {
     "name": "stdout",
     "output_type": "stream",
     "text": [
      "The 99 % VaR is 2184.94\n"
     ]
    }
   ],
   "source": [
    "VaR(portfolio, \"99\", 1, [2000, 5000]) "
   ]
  }
 ],
 "metadata": {
  "anaconda-cloud": {},
  "kernelspec": {
   "display_name": "Python [conda root]",
   "language": "python",
   "name": "conda-root-py"
  },
  "language_info": {
   "codemirror_mode": {
    "name": "ipython",
    "version": 3
   },
   "file_extension": ".py",
   "mimetype": "text/x-python",
   "name": "python",
   "nbconvert_exporter": "python",
   "pygments_lexer": "ipython3",
   "version": "3.5.2"
  }
 },
 "nbformat": 4,
 "nbformat_minor": 1
}
